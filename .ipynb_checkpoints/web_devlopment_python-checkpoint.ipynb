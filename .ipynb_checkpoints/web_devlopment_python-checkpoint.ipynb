{
 "cells": [
  {
   "cell_type": "markdown",
   "id": "305ac184",
   "metadata": {},
   "source": [
    "# Python Web Development"
   ]
  },
  {
   "cell_type": "markdown",
   "id": "2c95cc96",
   "metadata": {},
   "source": [
    "### HTML"
   ]
  },
  {
   "cell_type": "code",
   "execution_count": null,
   "id": "688b1511",
   "metadata": {},
   "outputs": [],
   "source": [
    "# simple html page with a text field and a submit button"
   ]
  },
  {
   "cell_type": "raw",
   "id": "f10fa135",
   "metadata": {},
   "source": [
    "<html>\n",
    "   <body>\n",
    "      <form>\n",
    "         <p>Enter Name:</p>\n",
    "         <p><input type = \"text\" name = \"name\" /></p>\n",
    "         <p><input type = \"submit\" value = \"submit\" /></p>\n",
    "      </form>\n",
    "   </body>\n",
    "</html>"
   ]
  },
  {
   "cell_type": "markdown",
   "id": "5f21974a",
   "metadata": {},
   "source": [
    "### MySQL Connector"
   ]
  },
  {
   "cell_type": "code",
   "execution_count": null,
   "id": "e1c0db03",
   "metadata": {},
   "outputs": [],
   "source": [
    "# firstly install mysqlconnector using pip\n",
    "!pip install mysql.connector"
   ]
  },
  {
   "cell_type": "code",
   "execution_count": 55,
   "id": "9108bda7",
   "metadata": {},
   "outputs": [],
   "source": [
    "# import library\n",
    "import mysql.connector"
   ]
  },
  {
   "cell_type": "markdown",
   "id": "c23df45a",
   "metadata": {},
   "source": [
    "### create connection"
   ]
  },
  {
   "cell_type": "code",
   "execution_count": 56,
   "id": "91a7db25",
   "metadata": {},
   "outputs": [],
   "source": [
    "# first crete a mysql server on your system or use any cloud service"
   ]
  },
  {
   "cell_type": "code",
   "execution_count": 57,
   "id": "a390d10a",
   "metadata": {},
   "outputs": [],
   "source": [
    "# creating connection with credentials\n",
    "conn = mysql.connector.connect(host=\"localhost\", user=\"root\", passwd=\"password\")\n",
    "\n",
    "# create the cursor\n",
    "mycursor = conn.cursor()"
   ]
  },
  {
   "cell_type": "markdown",
   "id": "7e288a22",
   "metadata": {},
   "source": [
    "### create the database"
   ]
  },
  {
   "cell_type": "code",
   "execution_count": 6,
   "id": "d52d5b32",
   "metadata": {},
   "outputs": [],
   "source": [
    "#creating the database\n",
    "mycursor.execute(\"CREATE DATABASE IF NOT EXISTS test_db\")"
   ]
  },
  {
   "cell_type": "markdown",
   "id": "e0548c98",
   "metadata": {},
   "source": [
    "### show list of databases"
   ]
  },
  {
   "cell_type": "code",
   "execution_count": 7,
   "id": "97fc3d35",
   "metadata": {},
   "outputs": [
    {
     "name": "stdout",
     "output_type": "stream",
     "text": [
      "('information_schema',)\n",
      "('mysql',)\n",
      "('performance_schema',)\n",
      "('sys',)\n",
      "('test_db',)\n"
     ]
    }
   ],
   "source": [
    "# show the list of databases\n",
    "mycursor.execute(\"SHOW DATABASES\")\n",
    "\n",
    "for i in mycursor:\n",
    "    print(i)"
   ]
  },
  {
   "cell_type": "markdown",
   "id": "5912bf6e",
   "metadata": {},
   "source": [
    "### drop the database"
   ]
  },
  {
   "cell_type": "code",
   "execution_count": 52,
   "id": "0f955a96",
   "metadata": {},
   "outputs": [],
   "source": [
    "# drop the database\n",
    "mycursor.execute(\"DROP TABLE table_name\")"
   ]
  },
  {
   "cell_type": "markdown",
   "id": "f478b3ab",
   "metadata": {},
   "source": [
    "### use the database"
   ]
  },
  {
   "cell_type": "code",
   "execution_count": 58,
   "id": "1b7f7072",
   "metadata": {},
   "outputs": [],
   "source": [
    "# use the database\n",
    "mycursor.execute(\"USE test_db\")"
   ]
  },
  {
   "cell_type": "markdown",
   "id": "12fad4af",
   "metadata": {},
   "source": [
    "### create the table"
   ]
  },
  {
   "cell_type": "code",
   "execution_count": 9,
   "id": "4f2adb50",
   "metadata": {},
   "outputs": [],
   "source": [
    "# create table if not exists\n",
    "mycursor.execute('CREATE TABLE IF NOT EXISTS student_table(id INTEGER PRIMARY KEY AUTO_INCREMENT,\\\n",
    "                name TEXT, marks INTEGER, group_id INTEGER)')"
   ]
  },
  {
   "cell_type": "markdown",
   "id": "b8ac1b07",
   "metadata": {},
   "source": [
    "### DROP Table"
   ]
  },
  {
   "cell_type": "code",
   "execution_count": 37,
   "id": "658fd6ba",
   "metadata": {},
   "outputs": [],
   "source": [
    "# execute query\n",
    "sql = \"DROP TABLE table_name\"\n",
    "mycursor.execute(sql)"
   ]
  },
  {
   "cell_type": "markdown",
   "id": "ab78ce8c",
   "metadata": {},
   "source": [
    "### PRIMARY KEY AND FOREIGN KEY"
   ]
  },
  {
   "cell_type": "code",
   "execution_count": 44,
   "id": "5a2edc46",
   "metadata": {},
   "outputs": [
    {
     "name": "stdout",
     "output_type": "stream",
     "text": [
      "(1, 'A')\n",
      "(2, 'C')\n",
      "(3, 'D')\n",
      "(4, 'A')\n"
     ]
    }
   ],
   "source": [
    "# PRIMARY KEY AND FOREIGN KEY example:\n",
    "mycursor.execute('CREATE TABLE IF NOT EXISTS grades_table(student_id INTEGER ,\\\n",
    "                grade TEXT, FOREIGN KEY(student_id) REFERENCES student_table(id))')\n",
    "\n",
    "# insert multiple rows\n",
    "sql = \"INSERT INTO grades_table (student_id, grade) VALUES (%s, %s)\"\n",
    "val = [\n",
    "  (1, 'A'),\n",
    "  (2, 'C'),\n",
    "  (3, 'D'),\n",
    "  (4, 'A')\n",
    "]\n",
    "mycursor.executemany(sql, val)\n",
    "\n",
    "# commit\n",
    "conn.commit()\n",
    "\n",
    "# execute result\n",
    "sql = \"SELECT * FROM grades_table\"\n",
    "mycursor.execute(sql)\n",
    "\n",
    "result = mycursor.fetchall()\n",
    "# print the records\n",
    "for x in result:\n",
    "    print(x)"
   ]
  },
  {
   "cell_type": "markdown",
   "id": "9ce924b1",
   "metadata": {},
   "source": [
    "### show tables"
   ]
  },
  {
   "cell_type": "code",
   "execution_count": 54,
   "id": "333532e3",
   "metadata": {},
   "outputs": [
    {
     "name": "stdout",
     "output_type": "stream",
     "text": [
      "('grades_table',)\n",
      "('student_table',)\n"
     ]
    }
   ],
   "source": [
    "# show tables\n",
    "mycursor.execute(\"SHOW TABLES\")\n",
    "\n",
    "# print the result\n",
    "for x in mycursor:\n",
    "    print(x)"
   ]
  },
  {
   "cell_type": "markdown",
   "id": "5dac5b5a",
   "metadata": {},
   "source": [
    "### ALTER table"
   ]
  },
  {
   "cell_type": "code",
   "execution_count": null,
   "id": "a0abe306",
   "metadata": {},
   "outputs": [],
   "source": [
    "# ALTER the table\n",
    "sql = \"ALTER TABLE student_table ADD phone int(20);\"\n",
    "mycursor.execute(sql)\n",
    "\n",
    "# commit after every updation\n",
    "mydb.commit()"
   ]
  },
  {
   "cell_type": "markdown",
   "id": "2cb7201a",
   "metadata": {},
   "source": [
    "### insert single record into the database"
   ]
  },
  {
   "cell_type": "code",
   "execution_count": 13,
   "id": "c0e4913c",
   "metadata": {},
   "outputs": [],
   "source": [
    "# insert query\n",
    "sql = \"INSERT INTO student_table (id, name, marks, group_id) VALUES (%s, %s, %s, %s)\"\n",
    "val = (1, \"ravi\", 68, 101)\n",
    "mycursor.execute(sql, val)\n",
    "\n",
    "# commit after every updation\n",
    "conn.commit()"
   ]
  },
  {
   "cell_type": "markdown",
   "id": "4a9ce278",
   "metadata": {},
   "source": [
    "### insert multiple records"
   ]
  },
  {
   "cell_type": "code",
   "execution_count": 16,
   "id": "c991fd38",
   "metadata": {},
   "outputs": [],
   "source": [
    "# insert multiple rows\n",
    "sql = \"INSERT INTO student_table (id, name, marks, group_id) VALUES (%s, %s, %s, %s)\"\n",
    "val = [\n",
    "  ('2', 'akash', 55, 101),\n",
    "  ('3', 'jatin', 75, 102),\n",
    "  ('4', 'prateek', 68, 103),\n",
    "  ('5', 'sandeep', 99, 103)   \n",
    "]\n",
    "mycursor.executemany(sql, val)\n",
    "\n",
    "# commit\n",
    "conn.commit()"
   ]
  },
  {
   "cell_type": "markdown",
   "id": "c8405e7d",
   "metadata": {},
   "source": [
    "### select/view record"
   ]
  },
  {
   "cell_type": "code",
   "execution_count": 43,
   "id": "edd8816a",
   "metadata": {},
   "outputs": [
    {
     "name": "stdout",
     "output_type": "stream",
     "text": [
      "(1, 'ravi', 68, 101)\n",
      "(2, 'akash', 55, 101)\n",
      "(3, 'jatin', 80, 102)\n",
      "(4, 'prateek', 68, 103)\n",
      "(5, 'sandeep', 99, 103)\n",
      "(6, 'Arti', 92, 104)\n",
      "None\n"
     ]
    }
   ],
   "source": [
    "# select query\n",
    "mycursor.execute(\"SELECT * FROM student_table\")\n",
    "\n",
    "# to fetch all records/rows\n",
    "result = mycursor.fetchall()\n",
    "for i in result:\n",
    "    print(i)\n",
    "\n",
    "# to fetch only 1 record\n",
    "result2 = mycursor.fetchone()\n",
    "print(result2)"
   ]
  },
  {
   "cell_type": "markdown",
   "id": "870edf64",
   "metadata": {},
   "source": [
    "### select particular columns record"
   ]
  },
  {
   "cell_type": "code",
   "execution_count": 59,
   "id": "cbfd419c",
   "metadata": {},
   "outputs": [
    {
     "name": "stdout",
     "output_type": "stream",
     "text": [
      "(1, 'ravi')\n",
      "(2, 'akash')\n",
      "(3, 'jatin')\n",
      "(4, 'prateek')\n",
      "(5, 'sandeep')\n",
      "(6, 'Arti')\n"
     ]
    }
   ],
   "source": [
    "# select particular columnskey\n",
    "mycursor.execute(\"SELECT id, name FROM student_table\")\n",
    "\n",
    "# fetch result and print record\n",
    "result = mycursor.fetchall()\n",
    "for i in result:\n",
    "    print(i)"
   ]
  },
  {
   "cell_type": "markdown",
   "id": "53c8c577",
   "metadata": {},
   "source": [
    "### select record with condition"
   ]
  },
  {
   "cell_type": "code",
   "execution_count": 19,
   "id": "6a050d9a",
   "metadata": {},
   "outputs": [
    {
     "name": "stdout",
     "output_type": "stream",
     "text": [
      "(1, 'ravi', 68, 101)\n"
     ]
    }
   ],
   "source": [
    "# WHERE condition in SELECT query\n",
    "sql = \"SELECT * FROM student_table WHERE name ='ravi'\"\n",
    "mycursor.execute(sql)\n",
    "\n",
    "# fetch result and print records\n",
    "result = mycursor.fetchall()\n",
    "for i in result:\n",
    "    print(i)"
   ]
  },
  {
   "cell_type": "markdown",
   "id": "fcbbeaa9",
   "metadata": {},
   "source": [
    "### WHERE clause : AND"
   ]
  },
  {
   "cell_type": "code",
   "execution_count": 22,
   "id": "a464e0e0",
   "metadata": {},
   "outputs": [
    {
     "name": "stdout",
     "output_type": "stream",
     "text": [
      "(2, 'akash', 55, 101)\n"
     ]
    }
   ],
   "source": [
    "# WHERE condition with AND operator\n",
    "sql = \"SELECT * FROM student_table WHERE name = 'akash' AND group_id = 101\"\n",
    "\n",
    "mycursor.execute(sql)\n",
    "\n",
    "result = mycursor.fetchall()\n",
    "for i in result:\n",
    "    print(i)"
   ]
  },
  {
   "cell_type": "markdown",
   "id": "63b3cc76",
   "metadata": {},
   "source": [
    "### MySQL WHERE Clause: OR, IN, NOT IN Queries"
   ]
  },
  {
   "cell_type": "code",
   "execution_count": null,
   "id": "49a9e272",
   "metadata": {},
   "outputs": [],
   "source": [
    "# WHERE condition with OR operator\n",
    "sql1= \"SELECT * FROM student_table WHERE name = 'akash' OR 'marks' = 60\"\n",
    "\n",
    "# WHERE condition with IN operator\n",
    "sql2 = \"SELECT * FROM student_table WHERE group_id IN (101, 102)\"\n",
    "\n",
    "# WHERE condition with NOT IN operator\n",
    "sql3 = \"SELECT * FROM student_table WHERE group_id NOT IN (101)\""
   ]
  },
  {
   "cell_type": "markdown",
   "id": "631985ab",
   "metadata": {},
   "source": [
    "### ORDER BY"
   ]
  },
  {
   "cell_type": "code",
   "execution_count": 60,
   "id": "9d046848",
   "metadata": {},
   "outputs": [
    {
     "name": "stdout",
     "output_type": "stream",
     "text": [
      "(2, 'akash', 55, 101)\n",
      "(6, 'Arti', 92, 104)\n",
      "(3, 'jatin', 80, 102)\n",
      "(4, 'prateek', 68, 103)\n",
      "(1, 'ravi', 68, 101)\n",
      "(5, 'sandeep', 99, 103)\n"
     ]
    }
   ],
   "source": [
    "# ORDER BY in SELECT query\n",
    "sql = \"SELECT * FROM student_table ORDER BY name\"\n",
    "\n",
    "# execute query\n",
    "mycursor.execute(sql)\n",
    "\n",
    "# fetch result and print record\n",
    "myresult = mycursor.fetchall()\n",
    "for x in myresult:\n",
    "    print(x)"
   ]
  },
  {
   "cell_type": "markdown",
   "id": "2ea71d1d",
   "metadata": {},
   "source": [
    "### delete a record"
   ]
  },
  {
   "cell_type": "code",
   "execution_count": 65,
   "id": "9694e440",
   "metadata": {},
   "outputs": [
    {
     "name": "stdout",
     "output_type": "stream",
     "text": [
      "(2, 'C')\n",
      "(3, 'D')\n",
      "(4, 'A')\n"
     ]
    }
   ],
   "source": [
    "# delete a record\n",
    "sql = \"DELETE FROM grades_table WHERE student_id = 1\"\n",
    "\n",
    "# execute query\n",
    "mycursor.execute(sql)\n",
    "\n",
    "# commit\n",
    "conn.commit()\n",
    "\n",
    "# SELECT query\n",
    "sql = \"SELECT * FROM grades_table\"\n",
    "mycursor.execute(sql)\n",
    "\n",
    "myresult = mycursor.fetchall()\n",
    "for x in myresult:\n",
    "    print(x)"
   ]
  },
  {
   "cell_type": "markdown",
   "id": "924bbe46",
   "metadata": {},
   "source": [
    "### update a reocrd"
   ]
  },
  {
   "cell_type": "code",
   "execution_count": 63,
   "id": "eeeec1bb",
   "metadata": {},
   "outputs": [
    {
     "name": "stdout",
     "output_type": "stream",
     "text": [
      "(1, 'ravi', 68, 101)\n",
      "(2, 'akash', 55, 101)\n",
      "(3, 'jatin', 82, 102)\n",
      "(4, 'prateek', 68, 103)\n",
      "(5, 'sandeep', 99, 103)\n",
      "(6, 'Arti', 92, 104)\n"
     ]
    }
   ],
   "source": [
    "# update a record\n",
    "sql = \"UPDATE student_table SET marks = 82 WHERE name = 'jatin'\"\n",
    "\n",
    "# execute query\n",
    "mycursor.execute(sql)\n",
    "\n",
    "# commit\n",
    "conn.commit()\n",
    "\n",
    "# execute query\n",
    "sql = \"SELECT * FROM student_table\"\n",
    "mycursor.execute(sql)\n",
    "\n",
    "# fetch result\n",
    "myresult = mycursor.fetchall()\n",
    "\n",
    "# print record\n",
    "for x in myresult:\n",
    "    print(x)"
   ]
  },
  {
   "cell_type": "markdown",
   "id": "0f747143",
   "metadata": {},
   "source": [
    "## JOIN two tables"
   ]
  },
  {
   "cell_type": "markdown",
   "id": "c2c5be47",
   "metadata": {},
   "source": [
    "### JOIN or INNER JOIN"
   ]
  },
  {
   "cell_type": "code",
   "execution_count": 66,
   "id": "bec9f07d",
   "metadata": {},
   "outputs": [
    {
     "name": "stdout",
     "output_type": "stream",
     "text": [
      "('akash', 'C')\n",
      "('jatin', 'D')\n",
      "('prateek', 'A')\n"
     ]
    }
   ],
   "source": [
    "# join two tables\n",
    "# bedore this you have to create 1 extra tables with 1 common column\n",
    "sql = \"SELECT student_table.name AS name, grades_table.grade AS grade FROM student_table \\\n",
    "    INNER JOIN grades_table ON student_table.id = grades_table.student_id\"\n",
    "mycursor.execute(sql)\n",
    "\n",
    "# fetch result\n",
    "result = mycursor.fetchall()\n",
    "\n",
    "# print the records\n",
    "for x in result:\n",
    "    print(x)"
   ]
  },
  {
   "cell_type": "markdown",
   "id": "f1729417",
   "metadata": {},
   "source": [
    "### LEFT JOIN"
   ]
  },
  {
   "cell_type": "code",
   "execution_count": 67,
   "id": "0a07b429",
   "metadata": {},
   "outputs": [
    {
     "name": "stdout",
     "output_type": "stream",
     "text": [
      "('akash', 'C')\n",
      "('jatin', 'D')\n",
      "('prateek', 'A')\n",
      "('ravi', None)\n",
      "('sandeep', None)\n",
      "('Arti', None)\n"
     ]
    }
   ],
   "source": [
    "# join two tables\n",
    "# bedore this you have to create 1 extra tables with 1 common column\n",
    "sql = \"SELECT student_table.name AS name, grades_table.grade AS grade FROM student_table \\\n",
    "    LEFT JOIN grades_table ON student_table.id = grades_table.student_id\"\n",
    "mycursor.execute(sql)\n",
    "\n",
    "# fetch result\n",
    "result = mycursor.fetchall()\n",
    "\n",
    "# print the records\n",
    "for x in result:\n",
    "    print(x)\n"
   ]
  },
  {
   "cell_type": "markdown",
   "id": "9563fccd",
   "metadata": {},
   "source": [
    "### RIGHT JOIN"
   ]
  },
  {
   "cell_type": "code",
   "execution_count": 68,
   "id": "ab60e46e",
   "metadata": {},
   "outputs": [
    {
     "name": "stdout",
     "output_type": "stream",
     "text": [
      "('akash', 'C')\n",
      "('jatin', 'D')\n",
      "('prateek', 'A')\n"
     ]
    }
   ],
   "source": [
    "# join two tables\n",
    "# bedore this you have to create 1 extra tables with 1 common column\n",
    "sql = \"SELECT student_table.name AS name, grades_table.grade AS grade FROM student_table \\\n",
    "    RIGHT JOIN grades_table ON student_table.id = grades_table.student_id\"\n",
    "mycursor.execute(sql)\n",
    "\n",
    "result = mycursor.fetchall()\n",
    "# print the records\n",
    "for x in result:\n",
    "    print(x)\n"
   ]
  },
  {
   "cell_type": "markdown",
   "id": "3c928cf0",
   "metadata": {},
   "source": [
    "# Flask"
   ]
  },
  {
   "cell_type": "markdown",
   "id": "996f3521",
   "metadata": {},
   "source": [
    "### simple program"
   ]
  },
  {
   "cell_type": "code",
   "execution_count": null,
   "id": "0eb5faff",
   "metadata": {},
   "outputs": [],
   "source": [
    "# import library\n",
    "from flask import Flask\n",
    "\n",
    "#creating the Flask class object \n",
    "app = Flask(__name__)\n",
    "\n",
    "#route the app\n",
    "@app.route('/')\n",
    "def home():\n",
    "    return \"Home Page\";\n",
    "\n",
    "@app.route('/welcome')\n",
    "def welcome():\n",
    "    return \"Welcome to  Hexnbit\"\n",
    "\n",
    "# run flask application\n",
    "if __name__ =='__main__':\n",
    "    app.run(debug = True, port=5000)"
   ]
  },
  {
   "cell_type": "markdown",
   "id": "0a610971",
   "metadata": {},
   "source": [
    "## geting input through URL"
   ]
  },
  {
   "cell_type": "code",
   "execution_count": null,
   "id": "7272f661",
   "metadata": {},
   "outputs": [],
   "source": [
    "# import library\n",
    "from flask import Flask  \n",
    "\n",
    "#route the app\n",
    "@app.route('/')\n",
    "def home():  \n",
    "    return \"Home Page\"; \n",
    "@app.route('/admin')\n",
    "def hexnbit_admin():\n",
    "    return \"Hi, You are the Admin of hexnbit\"\n",
    "@app.route('/guest/<guest>')\n",
    "def hexnbit_guest(guest):\n",
    "    return \"Hi {}, Welcome to Hexnbit\".format(guest)\n",
    "\n",
    "# run flask application\n",
    "if __name__ =='__main__':\n",
    "    app.run(debug = True, port=5000) "
   ]
  },
  {
   "cell_type": "markdown",
   "id": "65299dfc",
   "metadata": {},
   "source": [
    "## Bind html page on route"
   ]
  },
  {
   "cell_type": "code",
   "execution_count": null,
   "id": "78205080",
   "metadata": {},
   "outputs": [],
   "source": [
    "# make sure you put your html files on \"templates\" folder\n",
    "# static folder should be on your current working directory"
   ]
  },
  {
   "cell_type": "markdown",
   "id": "f7d76f6f",
   "metadata": {},
   "source": [
    "### templates/index.html"
   ]
  },
  {
   "cell_type": "code",
   "execution_count": null,
   "id": "7cbfb7fd",
   "metadata": {},
   "outputs": [],
   "source": [
    "<html>\n",
    "    <head>\n",
    "        <title>HOME Page</title>\n",
    "    </head>\n",
    "    <body>\n",
    "        <h1>Welcome to Hexnbit</h1>\n",
    "    </body>\n",
    "</html>"
   ]
  },
  {
   "cell_type": "markdown",
   "id": "c8d3da8d",
   "metadata": {},
   "source": [
    "### main.py"
   ]
  },
  {
   "cell_type": "code",
   "execution_count": null,
   "id": "723b8922",
   "metadata": {},
   "outputs": [],
   "source": [
    "# import libraries\n",
    "from flask import Flask\n",
    "from flask import render_template\n",
    "\n",
    "#route the app\n",
    "@app.route('/')\n",
    "def home():\n",
    "    return render_template(\"index.html\")\n",
    "\n",
    "# run flask application\n",
    "if __name__ =='__main__':\n",
    "    app.run(debug = True, port=5000)"
   ]
  },
  {
   "cell_type": "markdown",
   "id": "2640a74d",
   "metadata": {},
   "source": [
    "## value types"
   ]
  },
  {
   "cell_type": "code",
   "execution_count": null,
   "id": "0e0ef3b1",
   "metadata": {},
   "outputs": [],
   "source": [
    "# for int type value\n",
    "@app.route('/students/<int:rollno>')\n",
    "# for float type value\n",
    "@app.route('/product/<float:price>')"
   ]
  },
  {
   "cell_type": "markdown",
   "id": "c3924eeb",
   "metadata": {},
   "source": [
    "## url_for\n",
    "### redirecting URL to a specific function"
   ]
  },
  {
   "cell_type": "code",
   "execution_count": null,
   "id": "42edc512",
   "metadata": {},
   "outputs": [],
   "source": [
    "# import libraries\n",
    "from flask import Flask, redirect, url_for\n",
    "\n",
    "app = Flask(__name__)\n",
    "\n",
    "# route the app\n",
    "@app.route('/admin')\n",
    "def admin():\n",
    "    return 'Hello Admin, Welcome to HexNbit'\n",
    "\n",
    "@app.route('/guest/<guest>')\n",
    "def guest(guest):\n",
    "    return 'Hello %s, Welcome' % guest\n",
    "\n",
    "@app.route('/user/<name>')\n",
    "def user(name):\n",
    "    if name =='admin':\n",
    "        return redirect(url_for('admin'))\n",
    "    else:\n",
    "        return redirect(url_for('guest',guest = name))\n",
    "\n",
    "# run flask application\n",
    "if __name__ == '__main__':\n",
    "    app.run(debug = True)"
   ]
  },
  {
   "cell_type": "markdown",
   "id": "af53f9fb",
   "metadata": {},
   "source": [
    "# HTTP methods - POST"
   ]
  },
  {
   "cell_type": "markdown",
   "id": "dd8e8209",
   "metadata": {},
   "source": [
    "### index.html"
   ]
  },
  {
   "cell_type": "raw",
   "id": "e8b5cf38",
   "metadata": {},
   "source": [
    "<html>  \n",
    "  <body>  \n",
    "    <form action = \"http://localhost:5000/login\" method = \"post\">  \n",
    "      <h1>ADMIN PANNEL LOGIN</h1>\n",
    "      <table>  \n",
    "        <tr><td>User Name</td>  \n",
    "        <td><input type =\"text\" name =\"username\"></td></tr>  \n",
    "        <tr><td>Password</td>  \n",
    "        <td><input type =\"password\" name =\"password\"></td></tr>  \n",
    "        <tr><td><input type = \"submit\"></td></tr>  \n",
    "      </table>  \n",
    "    </form>  \n",
    "  </body>  \n",
    "</html>"
   ]
  },
  {
   "cell_type": "markdown",
   "id": "fb566b40",
   "metadata": {},
   "source": [
    "### main.py"
   ]
  },
  {
   "cell_type": "code",
   "execution_count": null,
   "id": "1c42092a",
   "metadata": {},
   "outputs": [],
   "source": [
    "# import libraries\n",
    "from flask import *\n",
    "app = Flask(__name__)\n",
    "\n",
    "# admin credentials\n",
    "admin_username = \"admin\"\n",
    "admin_password = \"123\"\n",
    "\n",
    "@app.route('/login', methods=['POST'])\n",
    "def login():\n",
    "    uname = request.form['username']\n",
    "    passwrd = request.form['password']\n",
    "    if uname == admin_username and passwrd == admin_password:\n",
    "        return \"Welcome to the admin panel\"\n",
    "    else:\n",
    "        return \"Password or Username Incorrect\"\n",
    "\n",
    "if __name__ == '__main__':\n",
    "  app.run(debug=True)"
   ]
  },
  {
   "cell_type": "markdown",
   "id": "be4a2934",
   "metadata": {},
   "source": [
    "## Flask template"
   ]
  },
  {
   "cell_type": "code",
   "execution_count": 2,
   "id": "2e65d840",
   "metadata": {},
   "outputs": [],
   "source": [
    "# import library\n",
    "from flask import Flask\n",
    "\n",
    "application = Flask(__name__)\n",
    "@application.route('/')\n",
    "def index():\n",
    "    # use html syntax inside return\n",
    "    return '<html><body><h1>Welcome to HexNbit</h1></body></html>'\n",
    "\n",
    "#  run flask application\n",
    "if __name__ == '__main__':\n",
    "    application.run(debug = True)"
   ]
  },
  {
   "cell_type": "markdown",
   "id": "a78c9ff6",
   "metadata": {},
   "source": [
    "## jinja template"
   ]
  },
  {
   "cell_type": "markdown",
   "id": "22e6a20c",
   "metadata": {},
   "source": [
    "### index.html"
   ]
  },
  {
   "cell_type": "raw",
   "id": "adac076b",
   "metadata": {},
   "source": [
    "<html>\n",
    "    <head>\n",
    "        <title>HOME Page</title>\n",
    "    </head>\n",
    "   <body>\n",
    "      <h1>WELCOME {{ name }}!!</h1>\n",
    "   </body>\n",
    "</html>"
   ]
  },
  {
   "cell_type": "markdown",
   "id": "5302ff06",
   "metadata": {},
   "source": [
    "### main.py"
   ]
  },
  {
   "cell_type": "code",
   "execution_count": null,
   "id": "63defc07",
   "metadata": {},
   "outputs": [],
   "source": [
    "from flask import Flask, render_template\n",
    "app = Flask(__name__)\n",
    "\n",
    "@app.route('/hello/<user>')\n",
    "def hello_name(user):\n",
    "    return render_template('index.html', name = user)\n",
    "\n",
    "# run flask application\n",
    "if __name__ == '__main__':\n",
    "    app.run(debug = True)"
   ]
  },
  {
   "cell_type": "markdown",
   "id": "37b09226",
   "metadata": {},
   "source": [
    "## flask cookies"
   ]
  },
  {
   "cell_type": "code",
   "execution_count": null,
   "id": "c7a10e2b",
   "metadata": {},
   "outputs": [],
   "source": [
    "# import libraries\n",
    "from flask import *\n",
    "\n",
    "#creating the Flask class object\n",
    "app = Flask(__name__)\n",
    "\n",
    "@app.route(\"/cookies\")\n",
    "def cookies():\n",
    "    res = make_response(\"Cookies\", 200)\n",
    "    \n",
    "    # to set the cookies\n",
    "    res.set_cookie(\"mode\", \"dark\")\n",
    "    \n",
    "    # to get the cookies\n",
    "    temp_cookies = request.cookies\n",
    "    print(temp_cookies)\n",
    "    \n",
    "    return res\n",
    "\n",
    "if __name__ =='__main__':\n",
    "    app.run(debug = True, port=5000)"
   ]
  },
  {
   "cell_type": "markdown",
   "id": "aaf74b89",
   "metadata": {},
   "source": [
    "### all attributes of set_cookie method"
   ]
  },
  {
   "cell_type": "code",
   "execution_count": null,
   "id": "df1be848",
   "metadata": {},
   "outputs": [],
   "source": [
    "# there are all the attributes of set_cookie method we can use\n",
    "res.set_cookie(\n",
    "    \"mode\",\n",
    "    value=\"dark\",\n",
    "    max_age=20,\n",
    "    expires=None,\n",
    "    path=request.path,\n",
    "    domain=None,\n",
    "    secure=False,\n",
    "    httponly=False,\n",
    "    samesite=False\n",
    ")"
   ]
  },
  {
   "cell_type": "markdown",
   "id": "ff65a54a",
   "metadata": {},
   "source": [
    "# session"
   ]
  },
  {
   "cell_type": "code",
   "execution_count": null,
   "id": "76035b1e",
   "metadata": {},
   "outputs": [],
   "source": [
    "# The concept of a session is very much similar to that of a cookie. \n",
    "# However, the session data is stored on the server."
   ]
  },
  {
   "cell_type": "markdown",
   "id": "c0b9caff",
   "metadata": {},
   "source": [
    "### home.html"
   ]
  },
  {
   "cell_type": "raw",
   "id": "b1ba1cc3",
   "metadata": {},
   "source": [
    "<html>\n",
    "    <head>\n",
    "        <title>HOME Page</title>\n",
    "    </head>\n",
    "    <body>\n",
    "        <h3>Welcome to the website</h3>\n",
    "        <a href = \"/login\">login</a><br>\n",
    "        <a href = \"/profile\">view profile</a><br>\n",
    "        <a href = \"/logout\">Log out</a><br>\n",
    "    </body>\n",
    "</html>"
   ]
  },
  {
   "cell_type": "markdown",
   "id": "e05e2756",
   "metadata": {},
   "source": [
    "### login.html"
   ]
  },
  {
   "cell_type": "raw",
   "id": "c3df82d0",
   "metadata": {},
   "source": [
    "<html>\n",
    "    <head>\n",
    "        <title>Login Page</title>\n",
    "    </head>\n",
    "    <body>\n",
    "        <form method = \"post\" action = \"http://localhost:5000/success\">  \n",
    "            <table>\n",
    "                <tr><td>Student Email</td><td><input type = 'email' name = 'email'></td></tr>  \n",
    "                <tr><td>Student Password</td><td><input type = 'password' name = 'pass'></td></tr>  \n",
    "                <tr><td><input type = \"submit\" value = \"Submit\"></td></tr>  \n",
    "            </table>\n",
    "        </form>\n",
    "    </body>\n",
    "</html>"
   ]
  },
  {
   "cell_type": "markdown",
   "id": "608da699",
   "metadata": {},
   "source": [
    "### success.html"
   ]
  },
  {
   "cell_type": "raw",
   "id": "171d79b6",
   "metadata": {},
   "source": [
    "<html>\n",
    "    <head>\n",
    "        <title>Success Page</title>\n",
    "    </head>\n",
    "    <body>\n",
    "        <h2>Login Successfully</h2>\n",
    "        <a href=\"/profile\">View Student Profile</a>\n",
    "    </body>\n",
    "</html>"
   ]
  },
  {
   "cell_type": "markdown",
   "id": "88d9a557",
   "metadata": {},
   "source": [
    "### login_failed.html"
   ]
  },
  {
   "cell_type": "raw",
   "id": "52ec2a4b",
   "metadata": {},
   "source": [
    "<html>\n",
    "    <head>\n",
    "        <title>Failed</title>\n",
    "    </head>\n",
    "    <body>\n",
    "        <h3>Login Failed</h3>\n",
    "        <a href = \"/login\">login again</a><br>\n",
    "    </body>\n",
    "</html>"
   ]
  },
  {
   "cell_type": "markdown",
   "id": "52b5870f",
   "metadata": {},
   "source": [
    "### profile.html"
   ]
  },
  {
   "cell_type": "raw",
   "id": "9a6c3694",
   "metadata": {},
   "source": [
    "<!DOCTYPE html>\n",
    "<html>\n",
    "<head>\n",
    "\t<meta charset=\"utf-8\">\n",
    "\t<title>Profile</title>\n",
    "</head>\n",
    "<body>\n",
    "    <h3>This is Profile Page</h3>\n",
    "    <a href = \"/logout\">Log out</a><br>\n",
    "</body>\n",
    "</html>"
   ]
  },
  {
   "cell_type": "markdown",
   "id": "6e10ca24",
   "metadata": {},
   "source": [
    "### logout.html"
   ]
  },
  {
   "cell_type": "raw",
   "id": "040d7c3f",
   "metadata": {},
   "source": [
    "<html>\n",
    "    <head>\n",
    "        <title>Student Logout Page</title>\n",
    "    </head>\n",
    "    <body>\n",
    "        <p>Student logout successfully, click <a href=\"/login\">here</a> to login again</p>\n",
    "        <a href=\"/\">home</a>\n",
    "    </body>\n",
    "</html>\n"
   ]
  },
  {
   "cell_type": "markdown",
   "id": "9558fbe2",
   "metadata": {},
   "source": [
    "### main.py"
   ]
  },
  {
   "cell_type": "code",
   "execution_count": null,
   "id": "a834c323",
   "metadata": {},
   "outputs": [],
   "source": [
    "# import library\n",
    "from flask import *\n",
    "app = Flask(__name__)\n",
    "app.secret_key = \"fe03_2nsnzf\"\n",
    "\n",
    "# login credentials\n",
    "email = 'user@gmail.com'\n",
    "password = '123'\n",
    "\n",
    "# route the app to home page\n",
    "@app.route('/')\n",
    "def home():\n",
    "    return render_template(\"home.html\")\n",
    "\n",
    "# route the app to login page\n",
    "@app.route('/login')\n",
    "def login():\n",
    "    return render_template(\"login.html\")\n",
    "\n",
    "# route the app to success page\n",
    "@app.route('/success',methods = [\"POST\"])\n",
    "def success():\n",
    "    if request.method == \"POST\":\n",
    "        session['email']=request.form['email']\n",
    "        if (request.form['email'] == email and request.form['pass'] == password):\n",
    "            return render_template('success.html')\n",
    "        else:\n",
    "            return render_template('login_fail.html')\n",
    "\n",
    "# route the app to logout page\n",
    "@app.route('/logout')\n",
    "def logout():\n",
    "    if 'email' in session:\n",
    "        session.pop('email',None)\n",
    "        return render_template('logout.html')\n",
    "    else:\n",
    "        return '<p>user already logged out!</p>'\n",
    "\n",
    "# route the app to profile page\n",
    "@app.route('/profile')\n",
    "def profile():\n",
    "    if 'email' in session:\n",
    "        email = session['email']\n",
    "        return render_template('profile.html',name=email)  \n",
    "    else:\n",
    "        return '<p>do login first</p>'\n",
    "\n",
    "# run flask application\n",
    "if __name__ == '__main__':\n",
    "    app.run(debug = True)"
   ]
  },
  {
   "cell_type": "markdown",
   "id": "38f0136c",
   "metadata": {},
   "source": [
    "### Redirect and Errors"
   ]
  },
  {
   "cell_type": "raw",
   "id": "c77daa91",
   "metadata": {},
   "source": [
    "The Code parameter takes one of following values −\n",
    "\n",
    "400 − for Bad Request\n",
    "\n",
    "401 − for Unauthenticated\n",
    "\n",
    "403 − for Forbidden\n",
    "\n",
    "404 − for Not Found\n",
    "\n",
    "406 − for Not Acceptable\n",
    "\n",
    "415 − for Unsupported Media Type\n",
    "\n",
    "429 − Too Many Requests"
   ]
  },
  {
   "cell_type": "markdown",
   "id": "f0131975",
   "metadata": {},
   "source": [
    "### main.py"
   ]
  },
  {
   "cell_type": "code",
   "execution_count": null,
   "id": "d5aa9565",
   "metadata": {},
   "outputs": [],
   "source": [
    "#import libraries\n",
    "from flask import *\n",
    "app = Flask(__name__)\n",
    "\n",
    "# credentials\n",
    "user_name = 'admin'\n",
    "password = '123'\n",
    "\n",
    "@app.route('/')\n",
    "def home ():\n",
    "    return render_template(\"home.html\")\n",
    "\n",
    "@app.route('/login')\n",
    "def login():\n",
    "    return render_template(\"login.html\");\n",
    "\n",
    "@app.route('/check', methods = [\"POST\"])\n",
    "def check():\n",
    "    if request.method == 'POST' and request.form['password'] == password and request.form['username'] == user_name:\n",
    "        return redirect(url_for(\"success\"))\n",
    "    else:\n",
    "        abort(401)\n",
    "\n",
    "@app.route('/success')\n",
    "def success():\n",
    "    return \"Successfully Login\"\n",
    "\n",
    "# run flask application\n",
    "if __name__ == '__main__':\n",
    "    app.run(debug = True)"
   ]
  },
  {
   "cell_type": "markdown",
   "id": "0b466879",
   "metadata": {},
   "source": [
    "### home.html"
   ]
  },
  {
   "cell_type": "raw",
   "id": "4ea93a46",
   "metadata": {},
   "source": [
    "<html>  \n",
    "    <head>  \n",
    "        <title>Home Page</title>  \n",
    "    </head>  \n",
    "    <body>  \n",
    "        <h3>Welcome to the HexNbit</h3>  \n",
    "        <a href = \"/login\">Click here to login</a><br>  \n",
    "</html>  "
   ]
  },
  {
   "cell_type": "markdown",
   "id": "09c42bb7",
   "metadata": {},
   "source": [
    "### login.html"
   ]
  },
  {
   "cell_type": "raw",
   "id": "12f22373",
   "metadata": {},
   "source": [
    "<html>  \n",
    "<head>  \n",
    "    <title>Login Page</title>  \n",
    "</head>  \n",
    "<body>  \n",
    "    <form method=\"post\" action=\"http://localhost:5000/check\">  \n",
    "        <table>  \n",
    "            <tr><td>Enter Username</td><td><input name = 'username'></td></tr>  \n",
    "            <tr><td>Enter Password</td><td><input type = 'password' name = 'password'></td></tr>  \n",
    "            <tr><td><input type = \"submit\" value = \"Submit\"></td></tr>  \n",
    "        </table>  \n",
    "    </form>  \n",
    "</body>  \n",
    "</html>"
   ]
  },
  {
   "cell_type": "markdown",
   "id": "d50eb156",
   "metadata": {},
   "source": [
    "## File Uploading"
   ]
  },
  {
   "cell_type": "markdown",
   "id": "7fb2aa09",
   "metadata": {},
   "source": [
    "### upload.py"
   ]
  },
  {
   "cell_type": "code",
   "execution_count": null,
   "id": "c61f5964",
   "metadata": {},
   "outputs": [],
   "source": [
    "# import libraries\n",
    "from flask import *\n",
    "\n",
    "app = Flask(__name__)\n",
    "\n",
    "# home page\n",
    "@app.route('/')\n",
    "def upload():\n",
    "    return render_template(\"file_upload.html\")\n",
    "\n",
    "# success page\n",
    "@app.route('/success', methods = ['POST'])\n",
    "def success():\n",
    "    if request.method == 'POST':\n",
    "        f = request.files['file']\n",
    "        f.save(f.filename)\n",
    "        return render_template(\"success.html\", name = f.filename)\n",
    "\n",
    "# run flask application\n",
    "if __name__ == '__main__':\n",
    "    app.run(debug = True)"
   ]
  },
  {
   "cell_type": "markdown",
   "id": "b06fe3fe",
   "metadata": {},
   "source": [
    "### file_upload.html"
   ]
  },
  {
   "cell_type": "raw",
   "id": "35f127a6",
   "metadata": {},
   "source": [
    "<html>\n",
    "<head>\n",
    "    <title>upload</title>\n",
    "</head>\n",
    "<body>\n",
    "    <form action = \"/success\" method = \"post\" enctype=\"multipart/form-data\">\n",
    "        <input type=\"file\" name=\"file\" />\n",
    "        <input type = \"submit\" value=\"Upload\">\n",
    "    </form>\n",
    "</body>\n",
    "</html>"
   ]
  },
  {
   "cell_type": "markdown",
   "id": "bd63f2a2",
   "metadata": {},
   "source": [
    "### success.html"
   ]
  },
  {
   "cell_type": "raw",
   "id": "7d3c574e",
   "metadata": {},
   "source": [
    "<html>\n",
    "    <head>\n",
    "        <title>success</title>\n",
    "    </head>\n",
    "    <body>\n",
    "        <p>File uploaded successfully</p>\n",
    "        <p>File Name: {{name}}</p>\n",
    "    </body>\n",
    "</html>"
   ]
  },
  {
   "cell_type": "markdown",
   "id": "9a37ced3",
   "metadata": {},
   "source": [
    "## Sqlite3"
   ]
  },
  {
   "cell_type": "markdown",
   "id": "0a284f41",
   "metadata": {},
   "source": [
    "### DDL Commands"
   ]
  },
  {
   "cell_type": "code",
   "execution_count": 6,
   "id": "21163e4e",
   "metadata": {},
   "outputs": [
    {
     "name": "stdout",
     "output_type": "stream",
     "text": [
      "Database opened successfully\n",
      "Table created successfully\n",
      "('employees',)\n"
     ]
    }
   ],
   "source": [
    "# import library\n",
    "import sqlite3\n",
    "\n",
    "# create connection with local database file\n",
    "con = sqlite3.connect(\"hexnbit.db\")\n",
    "print(\"Database opened successfully\")\n",
    "\n",
    "# creating cursor object\n",
    "cursor = con.cursor()\n",
    "\n",
    "# execute query - create table\n",
    "cursor.execute(\"CREATE TABLE employees(id integer PRIMARY KEY, name text, salary real, department text)\")\n",
    "print(\"Table created successfully\")  \n",
    "\n",
    "# list tables\n",
    "cursorObj.execute('SELECT name from sqlite_master where type= \"table\"')\n",
    "\n",
    "# drop table\n",
    "cursor.execute('DROP table if exists employees')\n",
    "\n",
    "# execute query - create table if not exist\n",
    "cursor.execute(\"CREATE TABLE IF NOT EXISTS employees(id integer PRIMARY KEY, name text, salary real, department text, position text, hireDate text)\")\n",
    "\n",
    "# close the connection\n",
    "con.close()"
   ]
  },
  {
   "cell_type": "markdown",
   "id": "8734fd62",
   "metadata": {},
   "source": [
    "### INSERT command"
   ]
  },
  {
   "cell_type": "code",
   "execution_count": 4,
   "id": "26ff06fc",
   "metadata": {},
   "outputs": [
    {
     "name": "stdout",
     "output_type": "stream",
     "text": [
      "Database opened successfully\n"
     ]
    }
   ],
   "source": [
    "# import library\n",
    "import sqlite3\n",
    "\n",
    "# create connection with local database file\n",
    "con = sqlite3.connect(\"hexnbit.db\")\n",
    "print(\"Database opened successfully\")\n",
    "\n",
    "# create curson object\n",
    "cursor = con.cursor()\n",
    "\n",
    "# execute query - insert row\n",
    "cursor.execute(\"INSERT INTO employees VALUES(1, 'Shilpa', 30000, 'HR')\")\n",
    "\n",
    "# commit\n",
    "con.commit()\n",
    "\n",
    "# close the connection\n",
    "con.close()"
   ]
  },
  {
   "cell_type": "markdown",
   "id": "53fd397a",
   "metadata": {},
   "source": [
    "### UPDATE command"
   ]
  },
  {
   "cell_type": "code",
   "execution_count": 3,
   "id": "3094cdfd",
   "metadata": {},
   "outputs": [
    {
     "name": "stdout",
     "output_type": "stream",
     "text": [
      "Database opened successfully\n"
     ]
    }
   ],
   "source": [
    "# import library\n",
    "import sqlite3\n",
    "\n",
    "# create connection with local database file\n",
    "con = sqlite3.connect(\"hexnbit.db\")\n",
    "print(\"Database opened successfully\")\n",
    "\n",
    "# create curson object\n",
    "cursor = con.cursor()\n",
    "\n",
    "# execute query - update record\n",
    "cursor.execute('UPDATE employees SET name = \"Sumit\" where id = 1')\n",
    "\n",
    "for row in cursor:\n",
    "    print(row)\n",
    "\n",
    "# commit\n",
    "con.commit()\n",
    "\n",
    "# close the connection\n",
    "con.close()"
   ]
  },
  {
   "cell_type": "markdown",
   "id": "27ae6d71",
   "metadata": {},
   "source": [
    "### DELETE command"
   ]
  },
  {
   "cell_type": "code",
   "execution_count": null,
   "id": "b2fed9a0",
   "metadata": {},
   "outputs": [],
   "source": [
    "# import library\n",
    "import sqlite3\n",
    "\n",
    "# create connection with local database file\n",
    "con = sqlite3.connect(\"hexnbit.db\")\n",
    "print(\"Database opened successfully\")\n",
    "\n",
    "# create curson object\n",
    "cursor = con.cursor()\n",
    "\n",
    "# execute query - delete row\n",
    "cursor.execute('DELETE FROM employees where id = 1')\n",
    "\n",
    "# commit\n",
    "con.commit()\n",
    "\n",
    "# close the connection\n",
    "con.close()"
   ]
  },
  {
   "cell_type": "markdown",
   "id": "29bdcf7a",
   "metadata": {},
   "source": [
    "### SELECT command"
   ]
  },
  {
   "cell_type": "code",
   "execution_count": null,
   "id": "6eed240c",
   "metadata": {},
   "outputs": [],
   "source": [
    "# import library\n",
    "import sqlite3\n",
    "\n",
    "# create connection with local database file\n",
    "con = sqlite3.connect('mydatabase.db')\n",
    "\n",
    "# create curson object\n",
    "cursor = con.cursor()\n",
    "\n",
    "# execute query - view/ select records\n",
    "cursor.execute('SELECT * FROM employees')\n",
    "\n",
    "# fetchall records\n",
    "rows = cursor.fetchall()\n",
    "\n",
    "# print records/ row\n",
    "for row in rows:\n",
    "    print(row)\n",
    "\n",
    "# close the connection\n",
    "con.close()"
   ]
  },
  {
   "cell_type": "markdown",
   "id": "a9d6f5da",
   "metadata": {},
   "source": [
    "## SQLAlchemy"
   ]
  },
  {
   "cell_type": "code",
   "execution_count": null,
   "id": "ac3895dc",
   "metadata": {},
   "outputs": [],
   "source": [
    "# firstly install SQLAlchemy using pip,\n",
    "!pip install sqlalchemy"
   ]
  },
  {
   "cell_type": "markdown",
   "id": "07068b80",
   "metadata": {},
   "source": [
    "### CREATE table"
   ]
  },
  {
   "cell_type": "code",
   "execution_count": null,
   "id": "fa359862",
   "metadata": {},
   "outputs": [],
   "source": [
    "# import libraries\n",
    "from sqlalchemy import create_engine, MetaData, Table, Column, Integer, String\n",
    "\n",
    "# we are using sqlite connection\n",
    "engine = create_engine(\"sqlite:///library.db\",echo = True)\n",
    "meta = MetaData()\n",
    "\n",
    "# creating table\n",
    "books = Table(\n",
    "   'books', meta, \n",
    "   Column('id', Integer, primary_key = True), \n",
    "   Column('name', String), \n",
    "   Column('author', String),\n",
    ")\n",
    "meta.create_all(engine)"
   ]
  },
  {
   "cell_type": "markdown",
   "id": "6a623f5b",
   "metadata": {},
   "source": [
    "### INSERT COMMAND"
   ]
  },
  {
   "cell_type": "code",
   "execution_count": null,
   "id": "466d8438",
   "metadata": {},
   "outputs": [],
   "source": [
    "# import libraries\n",
    "from sqlalchemy import create_engine, MetaData, Table, Column, Integer, String\n",
    "\n",
    "# sqlite connection\n",
    "engine = create_engine('sqlite:///library.db', echo = True)\n",
    "meta = MetaData()\n",
    "\n",
    "# creating table\n",
    "books = Table(\n",
    "   'books', meta, \n",
    "   Column('id', Integer, primary_key = True), \n",
    "   Column('name', String), \n",
    "   Column('author', String), \n",
    ")\n",
    "\n",
    "# inserting into table\n",
    "ins = books.insert()\n",
    "ins = books.insert().values(name = 'Maths', author = 'RD')\n",
    "conn = engine.connect()\n",
    "result = conn.execute(ins)"
   ]
  },
  {
   "cell_type": "markdown",
   "id": "a33e46bf",
   "metadata": {},
   "source": [
    "### SELECT COMMAND"
   ]
  },
  {
   "cell_type": "code",
   "execution_count": null,
   "id": "c7228286",
   "metadata": {},
   "outputs": [],
   "source": [
    "# import libraries\n",
    "from sqlalchemy import create_engine, MetaData, Table, Column, Integer, String\n",
    "\n",
    "# sqlite connection\n",
    "engine = create_engine('sqlite:///library.db', echo = True)\n",
    "meta = MetaData()\n",
    "\n",
    "# creating table\n",
    "books = Table(\n",
    "   'bookd', meta,\n",
    "   Column('id', Integer, primary_key = True),\n",
    "   Column('name', String),\n",
    "   Column('author', String),\n",
    ")\n",
    "\n",
    "# selecting records\n",
    "s = books.select()\n",
    "conn = engine.connect()\n",
    "result = conn.execute(s)\n",
    "\n",
    "# printing rows\n",
    "for row in result:\n",
    "    print(row)"
   ]
  },
  {
   "cell_type": "markdown",
   "id": "ad0a49b5",
   "metadata": {},
   "source": [
    "### DELETE COMMAND"
   ]
  },
  {
   "cell_type": "code",
   "execution_count": null,
   "id": "85199aa1",
   "metadata": {},
   "outputs": [],
   "source": [
    "# import libraries\n",
    "from sqlalchemy import create_engine, MetaData, Table, Column, Integer, String, delete\n",
    "\n",
    "# sqlite connection\n",
    "engine = create_engine('sqlite:///college.db', echo = True)\n",
    "meta = MetaData()\n",
    "\n",
    "# creating table\n",
    "students = Table(\n",
    "   'students', meta, \n",
    "   Column('id', Integer, primary_key = True), \n",
    "   Column('name', String), \n",
    "   Column('lastname', String), \n",
    ")\n",
    "\n",
    "# create connection\n",
    "conn = engine.connect()\n",
    "\n",
    "# delete query\n",
    "stmt = students.delete().where(students.c.id == 1)\n",
    "conn.execute(stmt)\n",
    "\n",
    "# fetchall\n",
    "s = students.select()\n",
    "conn.execute(s).fetchall()"
   ]
  },
  {
   "cell_type": "markdown",
   "id": "299cc762",
   "metadata": {},
   "source": [
    "## Flask WTForm"
   ]
  },
  {
   "cell_type": "markdown",
   "id": "2b67b819",
   "metadata": {},
   "source": [
    "### form.html"
   ]
  },
  {
   "cell_type": "code",
   "execution_count": 2,
   "id": "4a9d80bf",
   "metadata": {},
   "outputs": [],
   "source": [
    "# first pip install Flask-WTF\n",
    "!pip install Flask-WTF\n",
    "!pip install wtforms"
   ]
  },
  {
   "cell_type": "raw",
   "id": "6e4502a5",
   "metadata": {},
   "source": [
    "<!DOCTYPE html>\n",
    "<html>\n",
    "<head>\n",
    "\t<title>Flask WTForm</title>\n",
    "</head>\n",
    "<body>\n",
    "\t<h1>Flask Forms</h1>\n",
    "\t<form action=\"/\" method=\"POST\">\n",
    "\t\t{{ form.FirstName.label(for=\"username\") }}\n",
    "\t\t{{ form.FirstName(placeholder=\"Enter first name\", id=\"username\") }}\n",
    "\t\t<br>\n",
    "\t\t<br>\n",
    "\t\t{{ form.LastName.label(for=\"username\") }}\n",
    "\t\t{{ form.LastName(placeholder=\"Enter last name\", id=\"username\") }}\n",
    "\t\t<br>\n",
    "\t\t<br>\n",
    "\t\t{{ form.rating.label() }}\n",
    "\t\t{{ form.rating() }}\n",
    "\t\t<br>\n",
    "\t\t<br>\t\n",
    "\t\t{{ form.choice.label() }}\n",
    "\t\t{{ form.choice() }}\n",
    "\t\t<br>\n",
    "\t\t{{ form.comments.label() }}\n",
    "\t\t{{ form.comments() }}\n",
    "\t\t<br>\n",
    "\t\t<br>\n",
    "\t\t{{ form.submit()}}\n",
    "\t</form>\n",
    "</body>\n",
    "</html>"
   ]
  },
  {
   "cell_type": "markdown",
   "id": "5084d952",
   "metadata": {},
   "source": [
    "### main.py"
   ]
  },
  {
   "cell_type": "code",
   "execution_count": null,
   "id": "56bba03f",
   "metadata": {},
   "outputs": [],
   "source": [
    "# import libraries\n",
    "from flask import Flask, request, render_template\n",
    "from flask_wtf import FlaskForm\n",
    "from wtforms import (StringField, SubmitField, RadioField, SelectField, TextAreaField)\n",
    "\n",
    "app = Flask(__name__)\n",
    "# set secret key\n",
    "app.config[\"SECRET_KEY\"] = 'mysecretkey'\n",
    "\n",
    "# creating form\n",
    "class Widgets(FlaskForm):\n",
    "    # name string field\n",
    "    FirstName = StringField(label=\"First Name\")\n",
    "    LastName = StringField(label=\"Last Name\")\n",
    "    # rating selection field\n",
    "    rating = SelectField(label=\"Rate yourself in Python\", choices=[\n",
    "                                                            (\"1\",\"1\"),\n",
    "                                                            (\"2\",\"2\"),\n",
    "                                                            (\"3\",\"3\"),\n",
    "                                                            (\"4\", \"4\"),\n",
    "                                                            (\"5\",\"5\")])\n",
    "    # choice radio field\n",
    "    choice = RadioField(label=\"Gender\", choices=[\n",
    "                                            (\"male\",\"male\"),\n",
    "                                            (\"female\",\"female\",)])\n",
    "    # text filed\n",
    "    comments = TextAreaField(label=\"Why you like python\")\n",
    "    # submit button\n",
    "    submit = SubmitField(label=\"Submit\")\n",
    "\n",
    "# route the app\n",
    "@app.route(\"/\", methods=(\"GET\", \"POST\"))\n",
    "def home():\n",
    "    form = Widgets()\n",
    "    # check for submitted or not\n",
    "    if form.is_submitted():\n",
    "        result = request.form\n",
    "        # print or do anything with the form data\n",
    "        print(result)\n",
    "        return \"FORM SUBMITTED\"\n",
    "    return render_template(\"form.html\", form=form)\n",
    "\n",
    "# run flask application\n",
    "if __name__ == \"__main__\":\n",
    "    app.run(debug=\"True\")\n"
   ]
  },
  {
   "cell_type": "code",
   "execution_count": null,
   "id": "20f2e639",
   "metadata": {},
   "outputs": [],
   "source": []
  }
 ],
 "metadata": {
  "kernelspec": {
   "display_name": "Python 3 (ipykernel)",
   "language": "python",
   "name": "python3"
  },
  "language_info": {
   "codemirror_mode": {
    "name": "ipython",
    "version": 3
   },
   "file_extension": ".py",
   "mimetype": "text/x-python",
   "name": "python",
   "nbconvert_exporter": "python",
   "pygments_lexer": "ipython3",
   "version": "3.8.10"
  }
 },
 "nbformat": 4,
 "nbformat_minor": 5
}
